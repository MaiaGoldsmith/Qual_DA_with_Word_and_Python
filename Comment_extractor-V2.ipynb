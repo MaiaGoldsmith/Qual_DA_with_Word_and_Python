{
 "cells": [
  {
   "cell_type": "code",
   "execution_count": 1,
   "id": "400a7d66",
   "metadata": {},
   "outputs": [],
   "source": [
    "import zipfile\n",
    "import csv\n",
    "from bs4 import BeautifulSoup as Soup\n",
    "import re\n",
    "from dataclasses import dataclass\n",
    "import ipywidgets as widgets\n",
    "from IPython.display import display"
   ]
  },
  {
   "cell_type": "code",
   "execution_count": 2,
   "id": "af1417ff",
   "metadata": {},
   "outputs": [
    {
     "data": {
      "application/vnd.jupyter.widget-view+json": {
       "model_id": "a387c6ad95174bd09c2090ed79ddff44",
       "version_major": 2,
       "version_minor": 0
      },
      "text/plain": [
       "FileUpload(value={}, accept='.docx', description='Upload', multiple=True)"
      ]
     },
     "metadata": {},
     "output_type": "display_data"
    },
    {
     "name": "stdout",
     "output_type": "stream",
     "text": [
      "Comments extracted and saved to output.csv\n"
     ]
    },
    {
     "name": "stderr",
     "output_type": "stream",
     "text": [
      "C:\\Users\\Maia\\anaconda3\\lib\\site-packages\\bs4\\builder\\__init__.py:545: XMLParsedAsHTMLWarning: It looks like you're parsing an XML document using an HTML parser. If this really is an HTML document (maybe it's XHTML?), you can ignore or filter this warning. If it's XML, you should know that using an XML parser will be more reliable. To parse this document as XML, make sure you have the lxml package installed, and pass the keyword argument `features=\"xml\"` into the BeautifulSoup constructor.\n",
      "  warnings.warn(\n"
     ]
    }
   ],
   "source": [
    "@dataclass\n",
    "class WordDocScraper:\n",
    "    path: str\n",
    "    comments: list = None\n",
    "\n",
    "    def extract_comments(self):\n",
    "        unzip = zipfile.ZipFile(self.path)\n",
    "        comments_xml = unzip.read('word/comments.xml')\n",
    "        comments_soup = Soup(comments_xml, 'lxml')\n",
    "        \n",
    "        doc = unzip.read('word/document.xml').decode()\n",
    "        start_loc = {x.group(1): x.start() for x in re.finditer(r'<w:commentRangeStart.*?w:id=\"(.*?)\"', doc)}\n",
    "        end_loc = {x.group(1): x.end() for x in re.finditer(r'<w:commentRangeEnd.*?w:id=\"(.*?)\".*?>', doc)}\n",
    "\n",
    "        comments_list = []\n",
    "        for c in comments_soup.find_all('w:comment'):\n",
    "            c_id = c.attrs['w:id']\n",
    "            xml = re.sub(r'(<w:p .*?>)', r'\\1 ', doc[start_loc[c_id]:end_loc[c_id] + 1])\n",
    "            comment_text = ''.join(c.findAll(text=True))\n",
    "            label_text = ''.join(Soup(xml, 'lxml').findAll(text=True))\n",
    "            comments_list.append((comment_text, label_text))\n",
    "        \n",
    "        unzip.close()\n",
    "        self.comments = comments_list\n",
    "\n",
    "def main(file_paths):\n",
    "    with open('output.csv', 'w', newline='', encoding='utf-8-sig') as f:\n",
    "        csv_writer = csv.writer(f)\n",
    "        csv_writer.writerow(['Filename', 'Comment Text', 'Label Text'])\n",
    "        \n",
    "        for path in file_paths:\n",
    "            scraper = WordDocScraper(path)\n",
    "            scraper.extract_comments()\n",
    "            for comment, label in scraper.comments:\n",
    "                csv_writer.writerow([path.split('/')[-1], comment, label])\n",
    "\n",
    "# File upload widget\n",
    "uploader = widgets.FileUpload(\n",
    "    accept='.docx',\n",
    "    multiple=True,\n",
    "    description='Upload'\n",
    ")\n",
    "\n",
    "# Callback function for upload event\n",
    "def on_upload(change):\n",
    "    file_paths = []\n",
    "    for filename, file_info in uploader.value.items():\n",
    "        with open(filename, 'wb') as f:\n",
    "            f.write(file_info['content'])\n",
    "        file_paths.append(filename)\n",
    "    main(file_paths)\n",
    "    print(\"Comments extracted and saved to output.csv\")\n",
    "\n",
    "uploader.observe(on_upload, names='value')\n",
    "display(uploader)\n"
   ]
  },
  {
   "cell_type": "code",
   "execution_count": null,
   "id": "856e6129",
   "metadata": {},
   "outputs": [],
   "source": []
  }
 ],
 "metadata": {
  "kernelspec": {
   "display_name": "Python 3 (ipykernel)",
   "language": "python",
   "name": "python3"
  },
  "language_info": {
   "codemirror_mode": {
    "name": "ipython",
    "version": 3
   },
   "file_extension": ".py",
   "mimetype": "text/x-python",
   "name": "python",
   "nbconvert_exporter": "python",
   "pygments_lexer": "ipython3",
   "version": "3.9.12"
  }
 },
 "nbformat": 4,
 "nbformat_minor": 5
}
